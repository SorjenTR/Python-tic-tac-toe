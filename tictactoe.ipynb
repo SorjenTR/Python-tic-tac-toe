{
 "cells": [
  {
   "cell_type": "code",
   "execution_count": 2,
   "metadata": {},
   "outputs": [
    {
     "name": "stdout",
     "output_type": "stream",
     "text": [
      " X | O | O \n",
      "-----------\n",
      " X | O | X \n",
      "-----------\n",
      " X | X | O \n",
      "Player X wins!\n",
      "Thanks for playing!\n"
     ]
    }
   ],
   "source": [
    "from IPython.display import clear_output\n",
    "\n",
    "def print_board(board):\n",
    "    clear_output()  # Clearing previous output\n",
    "    print(f\" {board[7]} | {board[8]} | {board[9]} \")\n",
    "    print(\"-----------\")\n",
    "    print(f\" {board[4]} | {board[5]} | {board[6]} \")\n",
    "    print(\"-----------\")\n",
    "    print(f\" {board[1]} | {board[2]} | {board[3]} \")\n",
    "\n",
    "def take_input(marker):\n",
    "    position = int(input(f\"Player {marker}, choose your position (1-9): \"))\n",
    "    return position\n",
    "\n",
    "def update_board(board, position, marker):\n",
    "    board[position] = marker\n",
    "\n",
    "def check_win(board, marker):\n",
    "    win_conditions = [\n",
    "        [7, 8, 9], [4, 5, 6], [1, 2, 3],  # Rows\n",
    "        [7, 4, 1], [8, 5, 2], [9, 6, 3],  # Columns\n",
    "        [7, 5, 3], [9, 5, 1]              # Diagonals\n",
    "    ]\n",
    "    for condition in win_conditions:\n",
    "        #if all(board[pos] == marker for pos in condition):\n",
    "        # if all(board[pos] == marker for pos in condition):\n",
    "        # board[8] == marker for pos in [8,5,2] -- iter 5 => True\n",
    "        # board[5] == marker for pos in [8,5,2] -- iter 5 => True\n",
    "        # board[2] == marker for pos in [8,5,2] -- iter 5 => True\n",
    "        # all([True, True, True]) => True\n",
    "        # if True: \n",
    "        #    return True\n",
    "        # for x in (board[pos] == marker for pos in condition)\n",
    "        if (board[condition[0]] == marker and board[condition[1]] == marker and board[condition[2]] == marker):\n",
    "            return True\n",
    "    return False\n",
    "\n",
    "def check_tie(board):\n",
    "    return \" \" not in board[1:]\n",
    "\n",
    "def play_game():\n",
    "    board = ['#'] + [' '] * 9  # Ignore index 0\n",
    "    markers = ['X', 'O']\n",
    "    player = 0  # Player 1 starts\n",
    "    game_over = False\n",
    "    \n",
    "    while not game_over:\n",
    "        print_board(board)\n",
    "        position = take_input(markers[player])\n",
    "        if board[position] == ' ':  # Check if position is empty\n",
    "            update_board(board, position, markers[player])\n",
    "            if check_win(board, markers[player]):\n",
    "                print_board(board)\n",
    "                print(f\"Player {markers[player]} wins!\")\n",
    "                game_over = True\n",
    "            elif check_tie(board):\n",
    "                print_board(board)\n",
    "                print(\"It's a tie!\")\n",
    "                game_over = True\n",
    "            else:\n",
    "                player = (player + 1) % 2  # Switch player\n",
    "        else:\n",
    "            print(\"That position is already taken! Choose another one.\")\n",
    "\n",
    "    play_again = input(\"Do you want to play again? (yes/no): \")\n",
    "    return play_again.lower() == 'yes'\n",
    "\n",
    "# Main loop to play multiple games\n",
    "while True:\n",
    "    if not play_game():\n",
    "        print(\"Thanks for playing!\")\n",
    "        break\n"
   ]
  }
 ],
 "metadata": {
  "kernelspec": {
   "display_name": "Python 3",
   "language": "python",
   "name": "python3"
  },
  "language_info": {
   "codemirror_mode": {
    "name": "ipython",
    "version": 3
   },
   "file_extension": ".py",
   "mimetype": "text/x-python",
   "name": "python",
   "nbconvert_exporter": "python",
   "pygments_lexer": "ipython3",
   "version": "3.11.9"
  }
 },
 "nbformat": 4,
 "nbformat_minor": 2
}
